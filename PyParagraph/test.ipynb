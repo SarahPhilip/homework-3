{
 "cells": [
  {
   "cell_type": "code",
   "execution_count": 64,
   "metadata": {},
   "outputs": [],
   "source": [
    "import re\n",
    "fname =  \"paragraph_3.txt\"\n",
    "with open(fname, 'r') as f:\n",
    "    paragraph = f.read()"
   ]
  },
  {
   "cell_type": "code",
   "execution_count": 68,
   "metadata": {},
   "outputs": [],
   "source": [
    "num_words = len(re.split(' ', content))"
   ]
  },
  {
   "cell_type": "code",
   "execution_count": 69,
   "metadata": {},
   "outputs": [
    {
     "data": {
      "text/plain": [
       "['.', '.', '.', '.', '.']"
      ]
     },
     "execution_count": 69,
     "metadata": {},
     "output_type": "execute_result"
    }
   ],
   "source": [
    "num_sentences = len(re.findall(r'\\.', content))\n",
    "re.findall(r'\\.', content)"
   ]
  },
  {
   "cell_type": "code",
   "execution_count": 70,
   "metadata": {},
   "outputs": [
    {
     "name": "stdout",
     "output_type": "stream",
     "text": [
      "Paragraph Analysis\n",
      "-------------------------\n",
      "Approximate word count: 121\n",
      "Approximate sentence count: 5\n",
      "Average Letter Count:5.545454545454546\n",
      "Average sentence length:24.2\n"
     ]
    }
   ],
   "source": [
    "print(\"Paragraph Analysis\")\n",
    "print(\"-\" * 25)\n",
    "print(\"Approximate word count: \" +str(num_words))\n",
    "print(\"Approximate sentence count: \" +str(num_sentences))\n",
    "print(\"Average Letter Count:\" +str(n/num_words))\n",
    "print(\"Average sentence length:\" + str(num_words/num_sentences))"
   ]
  },
  {
   "cell_type": "code",
   "execution_count": null,
   "metadata": {},
   "outputs": [],
   "source": []
  },
  {
   "cell_type": "code",
   "execution_count": null,
   "metadata": {},
   "outputs": [],
   "source": []
  }
 ],
 "metadata": {
  "kernelspec": {
   "display_name": "Python [conda env:PythonData]",
   "language": "python",
   "name": "conda-env-PythonData-py"
  },
  "language_info": {
   "codemirror_mode": {
    "name": "ipython",
    "version": 3
   },
   "file_extension": ".py",
   "mimetype": "text/x-python",
   "name": "python",
   "nbconvert_exporter": "python",
   "pygments_lexer": "ipython3",
   "version": "3.6.5"
  }
 },
 "nbformat": 4,
 "nbformat_minor": 2
}
